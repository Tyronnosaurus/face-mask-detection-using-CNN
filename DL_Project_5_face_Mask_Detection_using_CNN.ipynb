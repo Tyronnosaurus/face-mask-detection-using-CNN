{
  "nbformat": 4,
  "nbformat_minor": 0,
  "metadata": {
    "colab": {
      "provenance": []
    },
    "kernelspec": {
      "name": "python3",
      "display_name": "Python 3"
    },
    "language_info": {
      "name": "python"
    },
    "accelerator": "GPU",
    "gpuClass": "standard"
  },
  "cells": [
    {
      "cell_type": "code",
      "execution_count": 1,
      "metadata": {
        "colab": {
          "base_uri": "https://localhost:8080/"
        },
        "id": "N_CLqBul-P73",
        "outputId": "0068620e-88d3-4a95-8394-03ed63cd2100"
      },
      "outputs": [
        {
          "output_type": "stream",
          "name": "stdout",
          "text": [
            "Looking in indexes: https://pypi.org/simple, https://us-python.pkg.dev/colab-wheels/public/simple/\n",
            "Requirement already satisfied: kaggle in /usr/local/lib/python3.9/dist-packages (1.5.13)\n",
            "Requirement already satisfied: python-slugify in /usr/local/lib/python3.9/dist-packages (from kaggle) (8.0.1)\n",
            "Requirement already satisfied: six>=1.10 in /usr/local/lib/python3.9/dist-packages (from kaggle) (1.16.0)\n",
            "Requirement already satisfied: python-dateutil in /usr/local/lib/python3.9/dist-packages (from kaggle) (2.8.2)\n",
            "Requirement already satisfied: urllib3 in /usr/local/lib/python3.9/dist-packages (from kaggle) (1.26.15)\n",
            "Requirement already satisfied: certifi in /usr/local/lib/python3.9/dist-packages (from kaggle) (2022.12.7)\n",
            "Requirement already satisfied: tqdm in /usr/local/lib/python3.9/dist-packages (from kaggle) (4.65.0)\n",
            "Requirement already satisfied: requests in /usr/local/lib/python3.9/dist-packages (from kaggle) (2.27.1)\n",
            "Requirement already satisfied: text-unidecode>=1.3 in /usr/local/lib/python3.9/dist-packages (from python-slugify->kaggle) (1.3)\n",
            "Requirement already satisfied: charset-normalizer~=2.0.0 in /usr/local/lib/python3.9/dist-packages (from requests->kaggle) (2.0.12)\n",
            "Requirement already satisfied: idna<4,>=2.5 in /usr/local/lib/python3.9/dist-packages (from requests->kaggle) (3.4)\n"
          ]
        }
      ],
      "source": [
        "!pip install kaggle"
      ]
    },
    {
      "cell_type": "code",
      "source": [
        "# configuring the path of Kaggle.json file\n",
        "!mkdir -p ~/.kaggle\n",
        "!cp kaggle.json ~/.kaggle/\n",
        "!chmod 600 ~/.kaggle/kaggle.json"
      ],
      "metadata": {
        "id": "O_r4NfUt-nQn"
      },
      "execution_count": 2,
      "outputs": []
    },
    {
      "cell_type": "markdown",
      "source": [
        "Importing Face Mask Dataset"
      ],
      "metadata": {
        "id": "1WQ0q_5mOiqj"
      }
    },
    {
      "cell_type": "code",
      "source": [
        "# API to fetch the dataset from Kaggle\n",
        "!kaggle datasets download -d omkargurav/face-mask-dataset"
      ],
      "metadata": {
        "colab": {
          "base_uri": "https://localhost:8080/"
        },
        "id": "GRuZtxBmOf1Y",
        "outputId": "e944fa1c-2bb9-4294-a474-3cf9d2dcb705"
      },
      "execution_count": 3,
      "outputs": [
        {
          "output_type": "stream",
          "name": "stdout",
          "text": [
            "face-mask-dataset.zip: Skipping, found more recently modified local copy (use --force to force download)\n"
          ]
        }
      ]
    },
    {
      "cell_type": "code",
      "source": [
        "# extracting the compessed Dataset\n",
        "from zipfile import ZipFile\n",
        "dataset = '/content/face-mask-dataset.zip'\n",
        "\n",
        "with ZipFile(dataset,'r') as zip:\n",
        "  zip.extractall()\n",
        "  print('The dataset is extracted')"
      ],
      "metadata": {
        "colab": {
          "base_uri": "https://localhost:8080/"
        },
        "id": "STZzd8ghOuE0",
        "outputId": "3a391e7c-0bae-4b7e-d0d9-7e36348eed20"
      },
      "execution_count": 4,
      "outputs": [
        {
          "output_type": "stream",
          "name": "stdout",
          "text": [
            "The dataset is extracted\n"
          ]
        }
      ]
    },
    {
      "cell_type": "code",
      "source": [
        "!ls"
      ],
      "metadata": {
        "colab": {
          "base_uri": "https://localhost:8080/"
        },
        "id": "hMWRxwcpO5n8",
        "outputId": "a94a4d87-2ef1-414b-997a-2a0b3ba0affd"
      },
      "execution_count": 5,
      "outputs": [
        {
          "output_type": "stream",
          "name": "stdout",
          "text": [
            "data  face-mask-dataset.zip  kaggle.json  sample_data  test.png\n"
          ]
        }
      ]
    },
    {
      "cell_type": "markdown",
      "source": [
        "**Importing the Dependencies**"
      ],
      "metadata": {
        "id": "MKIrkEC5zrjA"
      }
    },
    {
      "cell_type": "code",
      "source": [
        "import os\n",
        "import numpy as np\n",
        "import matplotlib.pyplot as plt\n",
        "import matplotlib.image as mpimg\n",
        "import cv2\n",
        "from google.colab.patches import cv2_imshow\n",
        "from PIL import Image \n",
        "from sklearn.model_selection import train_test_split"
      ],
      "metadata": {
        "id": "yEUQCcZPzlfo"
      },
      "execution_count": 6,
      "outputs": []
    },
    {
      "cell_type": "code",
      "source": [
        "with_mask_files = os.listdir('/content/data/with_mask')\n",
        "print(with_mask_files[0:5])\n",
        "print(with_mask_files[-5:])"
      ],
      "metadata": {
        "colab": {
          "base_uri": "https://localhost:8080/"
        },
        "id": "i4xGbBHq0PSo",
        "outputId": "f777f35c-0ba0-45c4-cf1e-2f93358b32c5"
      },
      "execution_count": 7,
      "outputs": [
        {
          "output_type": "stream",
          "name": "stdout",
          "text": [
            "['with_mask_2042.jpg', 'with_mask_1933.jpg', 'with_mask_3623.jpg', 'with_mask_959.jpg', 'with_mask_2700.jpg']\n",
            "['with_mask_3365.jpg', 'with_mask_62.jpg', 'with_mask_3119.jpg', 'with_mask_16.jpg', 'with_mask_3265.jpg']\n"
          ]
        }
      ]
    },
    {
      "cell_type": "code",
      "source": [
        "without_mask_files = os.listdir('/content/data/without_mask')\n",
        "print(without_mask_files[0:5])\n",
        "print(without_mask_files[-5:])"
      ],
      "metadata": {
        "colab": {
          "base_uri": "https://localhost:8080/"
        },
        "id": "K_q6sypb0mqK",
        "outputId": "999ada49-9720-468b-ecd3-f052e571922d"
      },
      "execution_count": 8,
      "outputs": [
        {
          "output_type": "stream",
          "name": "stdout",
          "text": [
            "['without_mask_3054.jpg', 'without_mask_2766.jpg', 'without_mask_1542.jpg', 'without_mask_2699.jpg', 'without_mask_2337.jpg']\n",
            "['without_mask_488.jpg', 'without_mask_1811.jpg', 'without_mask_1483.jpg', 'without_mask_120.jpg', 'without_mask_2348.jpg']\n"
          ]
        }
      ]
    },
    {
      "cell_type": "code",
      "source": [
        "print('Number of with mask images:', len(with_mask_files))\n",
        "print('Number of without mask images:', len(without_mask_files))"
      ],
      "metadata": {
        "colab": {
          "base_uri": "https://localhost:8080/"
        },
        "id": "o5s8Mk350yqo",
        "outputId": "32f543d7-fb87-4757-8079-5fa2e2a99168"
      },
      "execution_count": 9,
      "outputs": [
        {
          "output_type": "stream",
          "name": "stdout",
          "text": [
            "Number of with mask images: 3725\n",
            "Number of without mask images: 3828\n"
          ]
        }
      ]
    },
    {
      "cell_type": "markdown",
      "source": [
        "**Creating Labels for the two class of Images**"
      ],
      "metadata": {
        "id": "fIEifMkE1Vr8"
      }
    },
    {
      "cell_type": "markdown",
      "source": [
        "with mask  -->  1\n",
        "\n",
        "without mask  -->  0"
      ],
      "metadata": {
        "id": "VDqdbJ4I1c9z"
      }
    },
    {
      "cell_type": "code",
      "source": [
        "# create the labels\n",
        "\n",
        "with_mask_labels = [1] * len(with_mask_files)\n",
        "\n",
        "without_mask_labels = [0] * len(without_mask_files)"
      ],
      "metadata": {
        "id": "M2EK-RtI1FUS"
      },
      "execution_count": 10,
      "outputs": []
    },
    {
      "cell_type": "code",
      "source": [
        "print(with_mask_labels[0:5])\n",
        "\n",
        "print(without_mask_labels[0:5])"
      ],
      "metadata": {
        "colab": {
          "base_uri": "https://localhost:8080/"
        },
        "id": "xJTydgcb13Bc",
        "outputId": "4a136e7e-8a19-442a-8fa9-dde9e411aad4"
      },
      "execution_count": 11,
      "outputs": [
        {
          "output_type": "stream",
          "name": "stdout",
          "text": [
            "[1, 1, 1, 1, 1]\n",
            "[0, 0, 0, 0, 0]\n"
          ]
        }
      ]
    },
    {
      "cell_type": "code",
      "source": [
        "print(len(with_mask_labels))\n",
        "print(len(without_mask_labels))"
      ],
      "metadata": {
        "colab": {
          "base_uri": "https://localhost:8080/"
        },
        "id": "OrIbqLhV193_",
        "outputId": "2ec43a87-d8e8-4077-866f-3fa363c92c66"
      },
      "execution_count": 12,
      "outputs": [
        {
          "output_type": "stream",
          "name": "stdout",
          "text": [
            "3725\n",
            "3828\n"
          ]
        }
      ]
    },
    {
      "cell_type": "code",
      "source": [
        "labels = with_mask_labels + without_mask_labels\n",
        "\n",
        "print(len(labels))\n",
        "print(labels[0:5])\n",
        "print(labels[-5:])"
      ],
      "metadata": {
        "colab": {
          "base_uri": "https://localhost:8080/"
        },
        "id": "i7H-OSqA2HZ-",
        "outputId": "3d472228-3234-418a-eb85-2d1805ba3c31"
      },
      "execution_count": 13,
      "outputs": [
        {
          "output_type": "stream",
          "name": "stdout",
          "text": [
            "7553\n",
            "[1, 1, 1, 1, 1]\n",
            "[0, 0, 0, 0, 0]\n"
          ]
        }
      ]
    },
    {
      "cell_type": "markdown",
      "source": [
        "**Displaying the Images**"
      ],
      "metadata": {
        "id": "4OZz81JJ2d_r"
      }
    },
    {
      "cell_type": "code",
      "source": [
        "# displaying with mask image\n",
        "img = mpimg.imread('/content/data/with_mask/with_mask_1545.jpg')\n",
        "imgplot = plt.imshow(img)\n",
        "plt.show()"
      ],
      "metadata": {
        "colab": {
          "base_uri": "https://localhost:8080/",
          "height": 269
        },
        "id": "QI7jBEJ02VQ9",
        "outputId": "f56a7ec1-2d0d-4571-f476-65fd6b713da6"
      },
      "execution_count": 14,
      "outputs": [
        {
          "output_type": "display_data",
          "data": {
            "text/plain": [
              "<Figure size 432x288 with 1 Axes>"
            ],
            "image/png": "[encoded data removed]"
          },
          "metadata": {
            "needs_background": "light"
          }
        }
      ]
    },
    {
      "cell_type": "code",
      "source": [
        "# displaying without mask image\n",
        "img = mpimg.imread('/content/data/without_mask/without_mask_2925.jpg')\n",
        "imgplot = plt.imshow(img)\n",
        "plt.show()"
      ],
      "metadata": {
        "colab": {
          "base_uri": "https://localhost:8080/",
          "height": 269
        },
        "id": "wwbhVmkr28rh",
        "outputId": "6d3c583b-34f1-4a04-b544-892be7ac7670"
      },
      "execution_count": 15,
      "outputs": [
        {
          "output_type": "display_data",
          "data": {
            "text/plain": [
              "<Figure size 432x288 with 1 Axes>"
            ],
            "image/png": "[encoded data removed]"
          },
          "metadata": {
            "needs_background": "light"
          }
        }
      ]
    },
    {
      "cell_type": "markdown",
      "source": [
        "**Image Processing**"
      ],
      "metadata": {
        "id": "r6Q8CJBH3V21"
      }
    },
    {
      "cell_type": "markdown",
      "source": [
        "1. Resize the Images\n",
        "\n",
        "2. Convert the images to numpy arrays"
      ],
      "metadata": {
        "id": "faTbplf63ZXB"
      }
    },
    {
      "cell_type": "code",
      "source": [
        "# convert images to numpy arrays\n",
        "\n",
        "with_mask_path = '/content/data/with_mask/'\n",
        "\n",
        "data = []\n",
        "\n",
        "for img_file in with_mask_files:\n",
        "\n",
        "  image = Image.open(with_mask_path + img_file)\n",
        "  image = image.resize((128,128))\n",
        "  image = image.convert('RGB')\n",
        "  image = np.array(image)\n",
        "  data.append(image)\n",
        "\n",
        "\n",
        "\n",
        "without_mask_path = '/content/data/without_mask/'\n",
        "\n",
        "\n",
        "for img_file in without_mask_files:\n",
        "\n",
        "  image = Image.open(without_mask_path + img_file)\n",
        "  image = image.resize((128,128))\n",
        "  image = image.convert('RGB')\n",
        "  image = np.array(image)\n",
        "  data.append(image)"
      ],
      "metadata": {
        "colab": {
          "base_uri": "https://localhost:8080/"
        },
        "id": "GjR7Vmg73MMj",
        "outputId": "093ab9db-53d1-4eea-b666-1e40e5d57656"
      },
      "execution_count": 16,
      "outputs": [
        {
          "output_type": "stream",
          "name": "stderr",
          "text": [
            "/usr/local/lib/python3.9/dist-packages/PIL/Image.py:975: UserWarning: Palette images with Transparency expressed in bytes should be converted to RGBA images\n",
            "  warnings.warn(\n"
          ]
        }
      ]
    },
    {
      "cell_type": "code",
      "source": [
        "type(data)"
      ],
      "metadata": {
        "colab": {
          "base_uri": "https://localhost:8080/"
        },
        "id": "kL1ETkSK6Sxu",
        "outputId": "97f4fa52-5ec9-42e1-864b-abc2c780a649"
      },
      "execution_count": 17,
      "outputs": [
        {
          "output_type": "execute_result",
          "data": {
            "text/plain": [
              "list"
            ]
          },
          "metadata": {},
          "execution_count": 17
        }
      ]
    },
    {
      "cell_type": "code",
      "source": [
        "len(data)"
      ],
      "metadata": {
        "colab": {
          "base_uri": "https://localhost:8080/"
        },
        "id": "dpgz_u2-6eQo",
        "outputId": "2d2a630f-4e74-49bf-f01c-e8a66b11fe40"
      },
      "execution_count": 18,
      "outputs": [
        {
          "output_type": "execute_result",
          "data": {
            "text/plain": [
              "7553"
            ]
          },
          "metadata": {},
          "execution_count": 18
        }
      ]
    },
    {
      "cell_type": "code",
      "source": [
        "data[0]"
      ],
      "metadata": {
        "colab": {
          "base_uri": "https://localhost:8080/"
        },
        "id": "4uD6dF1v6fsg",
        "outputId": "109909ab-2a4f-429c-9ca7-63083c4c3d84"
      },
      "execution_count": 19,
      "outputs": [
        {
          "output_type": "execute_result",
          "data": {
            "text/plain": [
              "array([[[230, 218, 255],\n",
              "        [227, 214, 255],\n",
              "        [221, 208, 255],\n",
              "        ...,\n",
              "        [239, 235, 252],\n",
              "        [238, 234, 251],\n",
              "        [237, 233, 250]],\n",
              "\n",
              "       [[229, 217, 255],\n",
              "        [226, 213, 255],\n",
              "        [221, 207, 255],\n",
              "        ...,\n",
              "        [239, 234, 252],\n",
              "        [238, 234, 251],\n",
              "        [238, 233, 250]],\n",
              "\n",
              "       [[228, 216, 254],\n",
              "        [225, 212, 255],\n",
              "        [219, 206, 253],\n",
              "        ...,\n",
              "        [244, 237, 254],\n",
              "        [243, 236, 253],\n",
              "        [242, 235, 252]],\n",
              "\n",
              "       ...,\n",
              "\n",
              "       [[ 93,  29,  89],\n",
              "        [ 92,  28,  89],\n",
              "        [ 91,  27,  86],\n",
              "        ...,\n",
              "        [ 61,  50,  56],\n",
              "        [ 58,  47,  53],\n",
              "        [ 59,  48,  54]],\n",
              "\n",
              "       [[ 94,  30,  92],\n",
              "        [ 93,  29,  90],\n",
              "        [ 92,  28,  89],\n",
              "        ...,\n",
              "        [ 60,  49,  55],\n",
              "        [ 60,  49,  55],\n",
              "        [ 63,  52,  58]],\n",
              "\n",
              "       [[ 96,  31,  95],\n",
              "        [ 95,  31,  94],\n",
              "        [ 95,  31,  91],\n",
              "        ...,\n",
              "        [ 60,  49,  55],\n",
              "        [ 64,  53,  59],\n",
              "        [ 67,  56,  62]]], dtype=uint8)"
            ]
          },
          "metadata": {},
          "execution_count": 19
        }
      ]
    },
    {
      "cell_type": "code",
      "source": [
        "type(data[0])"
      ],
      "metadata": {
        "colab": {
          "base_uri": "https://localhost:8080/"
        },
        "id": "HIyzW_yZ6k6m",
        "outputId": "3b1bf54c-6243-4dfa-b2d9-d6dcd7e24145"
      },
      "execution_count": 20,
      "outputs": [
        {
          "output_type": "execute_result",
          "data": {
            "text/plain": [
              "numpy.ndarray"
            ]
          },
          "metadata": {},
          "execution_count": 20
        }
      ]
    },
    {
      "cell_type": "code",
      "source": [
        "data[0].shape"
      ],
      "metadata": {
        "colab": {
          "base_uri": "https://localhost:8080/"
        },
        "id": "iXoDEYCe6uhn",
        "outputId": "95e5d66b-bab5-45c2-f65b-bf46cd9d8091"
      },
      "execution_count": 21,
      "outputs": [
        {
          "output_type": "execute_result",
          "data": {
            "text/plain": [
              "(128, 128, 3)"
            ]
          },
          "metadata": {},
          "execution_count": 21
        }
      ]
    },
    {
      "cell_type": "code",
      "source": [
        "# converting image list and label list to numpy arrays\n",
        "\n",
        "X = np.array(data)\n",
        "Y = np.array(labels)"
      ],
      "metadata": {
        "id": "U8pYcWO16xqb"
      },
      "execution_count": 22,
      "outputs": []
    },
    {
      "cell_type": "code",
      "source": [
        "type(X)"
      ],
      "metadata": {
        "colab": {
          "base_uri": "https://localhost:8080/"
        },
        "id": "nOJumzSg7JD4",
        "outputId": "b591ca86-1c03-4b6f-c262-f7d53a5e4206"
      },
      "execution_count": 23,
      "outputs": [
        {
          "output_type": "execute_result",
          "data": {
            "text/plain": [
              "numpy.ndarray"
            ]
          },
          "metadata": {},
          "execution_count": 23
        }
      ]
    },
    {
      "cell_type": "code",
      "source": [
        "type(Y)"
      ],
      "metadata": {
        "colab": {
          "base_uri": "https://localhost:8080/"
        },
        "id": "uSvCqSFv7J-7",
        "outputId": "134e7a07-bafc-45b9-dcc1-2a86c9258762"
      },
      "execution_count": 24,
      "outputs": [
        {
          "output_type": "execute_result",
          "data": {
            "text/plain": [
              "numpy.ndarray"
            ]
          },
          "metadata": {},
          "execution_count": 24
        }
      ]
    },
    {
      "cell_type": "code",
      "source": [
        "print(X.shape)\n",
        "print(Y.shape)"
      ],
      "metadata": {
        "colab": {
          "base_uri": "https://localhost:8080/"
        },
        "id": "CFcmRmnx7Ns2",
        "outputId": "7e26c559-84d2-46e3-ef31-223e54f9cb77"
      },
      "execution_count": 25,
      "outputs": [
        {
          "output_type": "stream",
          "name": "stdout",
          "text": [
            "(7553, 128, 128, 3)\n",
            "(7553,)\n"
          ]
        }
      ]
    },
    {
      "cell_type": "code",
      "source": [
        "print(Y)"
      ],
      "metadata": {
        "colab": {
          "base_uri": "https://localhost:8080/"
        },
        "id": "LB1Rap2X7R98",
        "outputId": "4da8c232-4fb1-4aa8-efb3-ff63a5647527"
      },
      "execution_count": 26,
      "outputs": [
        {
          "output_type": "stream",
          "name": "stdout",
          "text": [
            "[1 1 1 ... 0 0 0]\n"
          ]
        }
      ]
    },
    {
      "cell_type": "markdown",
      "source": [
        "**Train Test Split**"
      ],
      "metadata": {
        "id": "IZuq8fdc7e9x"
      }
    },
    {
      "cell_type": "code",
      "source": [
        "X_train, X_test, Y_train, Y_test = train_test_split(X, Y, test_size=0.2, random_state=2)"
      ],
      "metadata": {
        "id": "217vrhiO7c20"
      },
      "execution_count": 27,
      "outputs": []
    },
    {
      "cell_type": "code",
      "source": [
        "print(X.shape, X_train.shape, X_test.shape)"
      ],
      "metadata": {
        "colab": {
          "base_uri": "https://localhost:8080/"
        },
        "id": "uCqTqdAB72zJ",
        "outputId": "ff8bbdf8-5e22-4485-fbf1-6e3bb4254f37"
      },
      "execution_count": 28,
      "outputs": [
        {
          "output_type": "stream",
          "name": "stdout",
          "text": [
            "(7553, 128, 128, 3) (6042, 128, 128, 3) (1511, 128, 128, 3)\n"
          ]
        }
      ]
    },
    {
      "cell_type": "code",
      "source": [
        "# scaling the data\n",
        "\n",
        "X_train_scaled = X_train/255\n",
        "\n",
        "X_test_scaled = X_test/255"
      ],
      "metadata": {
        "id": "tQ8cYmhL76lZ"
      },
      "execution_count": 29,
      "outputs": []
    },
    {
      "cell_type": "code",
      "source": [
        "X_train[0]"
      ],
      "metadata": {
        "colab": {
          "base_uri": "https://localhost:8080/"
        },
        "id": "yMjyiUVH8FeB",
        "outputId": "ab6fc741-7e38-4cad-8b0f-a26aa4661a6c"
      },
      "execution_count": 30,
      "outputs": [
        {
          "output_type": "execute_result",
          "data": {
            "text/plain": [
              "array([[[255, 255, 255],\n",
              "        [255, 255, 255],\n",
              "        [255, 255, 255],\n",
              "        ...,\n",
              "        [255, 255, 255],\n",
              "        [255, 255, 255],\n",
              "        [255, 255, 255]],\n",
              "\n",
              "       [[255, 255, 255],\n",
              "        [255, 255, 255],\n",
              "        [255, 255, 255],\n",
              "        ...,\n",
              "        [255, 255, 255],\n",
              "        [255, 255, 255],\n",
              "        [255, 255, 255]],\n",
              "\n",
              "       [[255, 255, 255],\n",
              "        [255, 255, 255],\n",
              "        [255, 255, 255],\n",
              "        ...,\n",
              "        [255, 255, 255],\n",
              "        [255, 255, 255],\n",
              "        [255, 255, 255]],\n",
              "\n",
              "       ...,\n",
              "\n",
              "       [[254, 252, 255],\n",
              "        [252, 249, 252],\n",
              "        [252, 251, 255],\n",
              "        ...,\n",
              "        [249, 236, 242],\n",
              "        [252, 245, 249],\n",
              "        [252, 251, 252]],\n",
              "\n",
              "       [[251, 251, 253],\n",
              "        [254, 250, 254],\n",
              "        [255, 250, 254],\n",
              "        ...,\n",
              "        [237, 222, 227],\n",
              "        [247, 236, 240],\n",
              "        [253, 251, 251]],\n",
              "\n",
              "       [[245, 253, 253],\n",
              "        [249, 255, 255],\n",
              "        [250, 253, 254],\n",
              "        ...,\n",
              "        [247, 245, 245],\n",
              "        [244, 245, 245],\n",
              "        [251, 252, 251]]], dtype=uint8)"
            ]
          },
          "metadata": {},
          "execution_count": 30
        }
      ]
    },
    {
      "cell_type": "code",
      "source": [
        "X_train_scaled[0]"
      ],
      "metadata": {
        "colab": {
          "base_uri": "https://localhost:8080/"
        },
        "id": "V0cVGoJU8pWv",
        "outputId": "08e08c00-6181-4982-b0bf-2717a01eaeea"
      },
      "execution_count": 31,
      "outputs": [
        {
          "output_type": "execute_result",
          "data": {
            "text/plain": [
              "array([[[1.        , 1.        , 1.        ],\n",
              "        [1.        , 1.        , 1.        ],\n",
              "        [1.        , 1.        , 1.        ],\n",
              "        ...,\n",
              "        [1.        , 1.        , 1.        ],\n",
              "        [1.        , 1.        , 1.        ],\n",
              "        [1.        , 1.        , 1.        ]],\n",
              "\n",
              "       [[1.        , 1.        , 1.        ],\n",
              "        [1.        , 1.        , 1.        ],\n",
              "        [1.        , 1.        , 1.        ],\n",
              "        ...,\n",
              "        [1.        , 1.        , 1.        ],\n",
              "        [1.        , 1.        , 1.        ],\n",
              "        [1.        , 1.        , 1.        ]],\n",
              "\n",
              "       [[1.        , 1.        , 1.        ],\n",
              "        [1.        , 1.        , 1.        ],\n",
              "        [1.        , 1.        , 1.        ],\n",
              "        ...,\n",
              "        [1.        , 1.        , 1.        ],\n",
              "        [1.        , 1.        , 1.        ],\n",
              "        [1.        , 1.        , 1.        ]],\n",
              "\n",
              "       ...,\n",
              "\n",
              "       [[0.99607843, 0.98823529, 1.        ],\n",
              "        [0.98823529, 0.97647059, 0.98823529],\n",
              "        [0.98823529, 0.98431373, 1.        ],\n",
              "        ...,\n",
              "        [0.97647059, 0.9254902 , 0.94901961],\n",
              "        [0.98823529, 0.96078431, 0.97647059],\n",
              "        [0.98823529, 0.98431373, 0.98823529]],\n",
              "\n",
              "       [[0.98431373, 0.98431373, 0.99215686],\n",
              "        [0.99607843, 0.98039216, 0.99607843],\n",
              "        [1.        , 0.98039216, 0.99607843],\n",
              "        ...,\n",
              "        [0.92941176, 0.87058824, 0.89019608],\n",
              "        [0.96862745, 0.9254902 , 0.94117647],\n",
              "        [0.99215686, 0.98431373, 0.98431373]],\n",
              "\n",
              "       [[0.96078431, 0.99215686, 0.99215686],\n",
              "        [0.97647059, 1.        , 1.        ],\n",
              "        [0.98039216, 0.99215686, 0.99607843],\n",
              "        ...,\n",
              "        [0.96862745, 0.96078431, 0.96078431],\n",
              "        [0.95686275, 0.96078431, 0.96078431],\n",
              "        [0.98431373, 0.98823529, 0.98431373]]])"
            ]
          },
          "metadata": {},
          "execution_count": 31
        }
      ]
    },
    {
      "cell_type": "markdown",
      "source": [
        "**Building a Convolutional Neural Networks (CNN)**"
      ],
      "metadata": {
        "id": "L5I-8fUA80iS"
      }
    },
    {
      "cell_type": "code",
      "source": [
        "import tensorflow as tf\n",
        "from tensorflow import keras"
      ],
      "metadata": {
        "id": "P0NZPpoQ8tZm"
      },
      "execution_count": 32,
      "outputs": []
    },
    {
      "cell_type": "code",
      "source": [
        "num_of_classes = 2\n",
        "\n",
        "model = keras.Sequential()\n",
        "\n",
        "model.add(keras.layers.Conv2D(32, kernel_size=(3,3), activation='relu', input_shape=(128,128,3)))\n",
        "model.add(keras.layers.MaxPooling2D(pool_size=(2,2)))\n",
        "\n",
        "\n",
        "model.add(keras.layers.Conv2D(64, kernel_size=(3,3), activation='relu'))\n",
        "model.add(keras.layers.MaxPooling2D(pool_size=(2,2)))\n",
        "\n",
        "model.add(keras.layers.Flatten())\n",
        "\n",
        "model.add(keras.layers.Dense(128, activation='relu'))\n",
        "model.add(keras.layers.Dropout(0.5))\n",
        "\n",
        "model.add(keras.layers.Dense(64, activation='relu'))\n",
        "model.add(keras.layers.Dropout(0.5))\n",
        "\n",
        "\n",
        "model.add(keras.layers.Dense(num_of_classes, activation='sigmoid'))"
      ],
      "metadata": {
        "id": "OA9eSj2_9EMl"
      },
      "execution_count": 33,
      "outputs": []
    },
    {
      "cell_type": "code",
      "source": [
        "# compile the neural network\n",
        "model.compile(optimizer='adam',\n",
        "              loss='sparse_categorical_crossentropy',\n",
        "              metrics=['acc'])"
      ],
      "metadata": {
        "id": "8PS9_gb0_1F3"
      },
      "execution_count": 34,
      "outputs": []
    },
    {
      "cell_type": "code",
      "source": [
        "# training the neural network\n",
        "history = model.fit(X_train_scaled, Y_train, validation_split=0.1, epochs=5)"
      ],
      "metadata": {
        "colab": {
          "base_uri": "https://localhost:8080/"
        },
        "id": "gxbjDZaLAFdS",
        "outputId": "5f85896e-3b9b-47f6-9a5d-d649d0cff430"
      },
      "execution_count": 35,
      "outputs": [
        {
          "output_type": "stream",
          "name": "stdout",
          "text": [
            "Epoch 1/5\n",
            "170/170 [==============================] - 14s 22ms/step - loss: 0.4712 - acc: 0.8032 - val_loss: 0.3157 - val_acc: 0.8826\n",
            "Epoch 2/5\n",
            "170/170 [==============================] - 3s 18ms/step - loss: 0.2957 - acc: 0.8827 - val_loss: 0.2703 - val_acc: 0.8909\n",
            "Epoch 3/5\n",
            "170/170 [==============================] - 3s 18ms/step - loss: 0.2433 - acc: 0.9051 - val_loss: 0.2478 - val_acc: 0.8992\n",
            "Epoch 4/5\n",
            "170/170 [==============================] - 3s 17ms/step - loss: 0.2089 - acc: 0.9154 - val_loss: 0.2321 - val_acc: 0.9058\n",
            "Epoch 5/5\n",
            "170/170 [==============================] - 3s 17ms/step - loss: 0.1884 - acc: 0.9266 - val_loss: 0.2702 - val_acc: 0.8876\n"
          ]
        }
      ]
    },
    {
      "cell_type": "markdown",
      "source": [
        "**Model Evaluation**"
      ],
      "metadata": {
        "id": "M7FVqeVIAyLK"
      }
    },
    {
      "cell_type": "code",
      "source": [
        "loss, accuracy = model.evaluate(X_test_scaled, Y_test)\n",
        "print('Test Accuracy =', accuracy)"
      ],
      "metadata": {
        "colab": {
          "base_uri": "https://localhost:8080/"
        },
        "id": "_IXu88q_AVo_",
        "outputId": "718f5d62-6bc5-4b4a-befe-4be3530a74ab"
      },
      "execution_count": 36,
      "outputs": [
        {
          "output_type": "stream",
          "name": "stdout",
          "text": [
            "48/48 [==============================] - 0s 10ms/step - loss: 0.2842 - acc: 0.8921\n",
            "Test Accuracy = 0.8921244144439697\n"
          ]
        }
      ]
    },
    {
      "cell_type": "code",
      "source": [
        "h = history\n",
        "\n",
        "# plot the loss value\n",
        "plt.plot(h.history['loss'], label='train loss')\n",
        "plt.plot(h.history['val_loss'], label='validation loss')\n",
        "plt.legend()\n",
        "plt.show()\n",
        "\n",
        "# plot the accuracy value\n",
        "plt.plot(h.history['acc'], label='train accuracy')\n",
        "plt.plot(h.history['val_acc'], label='validation accuracy')\n",
        "plt.legend()\n",
        "plt.show()"
      ],
      "metadata": {
        "colab": {
          "base_uri": "https://localhost:8080/",
          "height": 513
        },
        "id": "Qbk5iRtEA_xZ",
        "outputId": "48368d7e-4778-413b-f5a5-b4840d7ae39b"
      },
      "execution_count": 37,
      "outputs": [
        {
          "output_type": "display_data",
          "data": {
            "text/plain": [
              "<Figure size 432x288 with 1 Axes>"
            ],
            "image/png": "[encoded data removed]"
          },
          "metadata": {
            "needs_background": "light"
          }
        },
        {
          "output_type": "display_data",
          "data": {
            "text/plain": [
              "<Figure size 432x288 with 1 Axes>"
            ],
            "image/png": "[encoded data removed]"
          },
          "metadata": {
            "needs_background": "light"
          }
        }
      ]
    },
    {
      "cell_type": "markdown",
      "source": [
        "**Predictive System**"
      ],
      "metadata": {
        "id": "uWvPB4q2ByT3"
      }
    },
    {
      "cell_type": "code",
      "source": [
        "def Predict(input_image_path):\n",
        "  #input_image_path = input('Path of the image to be predicted: ')\n",
        "\n",
        "  input_image = cv2.imread(input_image_path)\n",
        "  cv2_imshow(input_image)\n",
        "  input_image_resized = cv2.resize(input_image, (128,128))\n",
        "  input_image_scaled = input_image_resized/255\n",
        "  input_image_reshaped = np.reshape(input_image_scaled, [1,128,128,3])\n",
        "\n",
        "  input_prediction = model.predict(input_image_reshaped)\n",
        "  print(input_prediction)\n",
        "\n",
        "  input_pred_label = np.argmax(input_prediction)\n",
        "  print(input_pred_label)\n",
        "\n",
        "\n",
        "  if input_pred_label==1:  print('The person in the image is wearing a mask')\n",
        "  else:                    print('The person in the image is not wearing a mask')"
      ],
      "metadata": {
        "id": "lQNyqxFeBi3c"
      },
      "execution_count": 38,
      "outputs": []
    },
    {
      "cell_type": "code",
      "source": [
        "Predict(\"data/with_mask/with_mask_705.jpg\")"
      ],
      "metadata": {
        "colab": {
          "base_uri": "https://localhost:8080/",
          "height": 157
        },
        "id": "EQW69NIUYyRN",
        "outputId": "aece96aa-3216-4b0f-88a6-69d9b5ca9a8f"
      },
      "execution_count": 42,
      "outputs": [
        {
          "output_type": "display_data",
          "data": {
            "text/plain": [
              "<PIL.Image.Image image mode=RGB size=56x69 at 0x7FCAAC3828E0>"
            ],
            "image/png": "[encoded data removed]"
          },
          "metadata": {}
        },
        {
          "output_type": "stream",
          "name": "stdout",
          "text": [
            "1/1 [==============================] - 0s 52ms/step\n",
            "[[0.4601724 0.5132156]]\n",
            "1\n",
            "The person in the image is wearing a mask\n"
          ]
        }
      ]
    }
  ]
}